{
  "nbformat": 4,
  "nbformat_minor": 0,
  "metadata": {
    "colab": {
      "name": "ShowCurrentTime.ipynb",
      "provenance": []
    },
    "kernelspec": {
      "name": "python3",
      "display_name": "Python 3"
    },
    "language_info": {
      "name": "python"
    }
  },
  "cells": [
    {
      "cell_type": "code",
      "metadata": {
        "id": "xUF-LPVufyNo"
      },
      "source": [
        "import time"
      ],
      "execution_count": 1,
      "outputs": []
    },
    {
      "cell_type": "code",
      "metadata": {
        "id": "-m20dTLuf3UE"
      },
      "source": [
        "currentTime = time.time()"
      ],
      "execution_count": 2,
      "outputs": []
    },
    {
      "cell_type": "code",
      "metadata": {
        "id": "XKKU__WMgDDy"
      },
      "source": [
        "totalSeconds = int(currentTime)"
      ],
      "execution_count": 3,
      "outputs": []
    },
    {
      "cell_type": "code",
      "metadata": {
        "id": "pClRMTARgKDQ"
      },
      "source": [
        "currentSeconds = totalSeconds % 60"
      ],
      "execution_count": 4,
      "outputs": []
    },
    {
      "cell_type": "code",
      "metadata": {
        "id": "e_4H9G5IgSVu"
      },
      "source": [
        "totalMinutes = totalSeconds // 60"
      ],
      "execution_count": 5,
      "outputs": []
    },
    {
      "cell_type": "code",
      "metadata": {
        "id": "TjklEvwMgXFQ"
      },
      "source": [
        "currentMinute = totalMinutes % 60"
      ],
      "execution_count": 6,
      "outputs": []
    },
    {
      "cell_type": "code",
      "metadata": {
        "id": "9ECUqgDUhQK4"
      },
      "source": [
        "totalHours = totalMinutes // 60"
      ],
      "execution_count": 7,
      "outputs": []
    },
    {
      "cell_type": "code",
      "metadata": {
        "id": "gOJmEYyphULC"
      },
      "source": [
        "currentHour = totalHours % 24"
      ],
      "execution_count": 8,
      "outputs": []
    },
    {
      "cell_type": "code",
      "metadata": {
        "colab": {
          "base_uri": "https://localhost:8080/"
        },
        "id": "-catYIIMhYYg",
        "outputId": "1e18ecc8-993a-473a-9444-0e66ed26800c"
      },
      "source": [
        "print(\"Current time is\", currentHour, \":\", currentMinute, \":\", currentSeconds, \"GMT\")"
      ],
      "execution_count": 10,
      "outputs": [
        {
          "output_type": "stream",
          "name": "stdout",
          "text": [
            "Current time is 16 : 7 : 40 GMT\n"
          ]
        }
      ]
    },
    {
      "cell_type": "code",
      "metadata": {
        "id": "ZtmjmOv2hl6q"
      },
      "source": [
        ""
      ],
      "execution_count": null,
      "outputs": []
    }
  ]
}